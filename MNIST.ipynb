{
  "nbformat": 4,
  "nbformat_minor": 0,
  "metadata": {
    "accelerator": "GPU",
    "colab": {
      "provenance": [],
      "include_colab_link": true
    },
    "kernelspec": {
      "display_name": "Python 3",
      "name": "python3"
    }
  },
  "cells": [
    {
      "cell_type": "markdown",
      "metadata": {
        "id": "view-in-github",
        "colab_type": "text"
      },
      "source": [
        "<a href=\"https://colab.research.google.com/github/smomtahe/Logistic_Regression/blob/main/MNIST.ipynb\" target=\"_parent\"><img src=\"https://colab.research.google.com/assets/colab-badge.svg\" alt=\"Open In Colab\"/></a>"
      ]
    },
    {
      "cell_type": "markdown",
      "metadata": {
        "id": "rt44vyY1xW9b"
      },
      "source": [
        "# Classification of MNIST digits with dense layers"
      ]
    },
    {
      "cell_type": "markdown",
      "metadata": {
        "id": "yH1EOQd6R2uQ"
      },
      "source": [
        "## Loading the image data"
      ]
    },
    {
      "cell_type": "code",
      "metadata": {
        "id": "FSJyddqGexl5",
        "colab": {
          "base_uri": "https://localhost:8080/"
        },
        "outputId": "56a7cbec-e2a1-4ce2-ef84-18ee5616dd49"
      },
      "source": [
        "%tensorflow_version 2.x\n",
        "import tensorflow as tf\n",
        "import os\n",
        "import gzip\n",
        "import math\n",
        "import operator\n",
        "import sklearn.model_selection\n",
        "import random\n",
        "import warnings\n",
        "warnings.filterwarnings('ignore')\n",
        "\n",
        "import matplotlib.pyplot as matplot\n",
        "import matplotlib\n",
        "%matplotlib inline\n",
        "import pandas as pd\n",
        "import numpy as np\n",
        "import pickle as cPickle\n",
        "import seaborn as sb\n",
        "\n",
        "from time import time\n",
        "from itertools import chain\n",
        "from subprocess import check_output\n",
        "from collections import Counter\n",
        "from PIL import Image\n",
        "from math import ceil\n",
        "from scipy.stats import mode\n",
        "from sklearn.metrics import confusion_matrix\n",
        "from sklearn.metrics import accuracy_score\n",
        "from pandas.plotting import parallel_coordinates\n",
        "\n",
        "from scipy import optimize as op\n",
        "mnist = tf.keras.datasets.mnist\n",
        "\n",
        "train_data, test_data = mnist.load_data()\n",
        "\n",
        "train_images_original, train_labels_original = train_data\n",
        "test_images_original, test_labels_original = test_data"
      ],
      "execution_count": null,
      "outputs": [
        {
          "output_type": "stream",
          "text": [
            "Downloading data from https://storage.googleapis.com/tensorflow/tf-keras-datasets/mnist.npz\n",
            "11493376/11490434 [==============================] - 0s 0us/step\n"
          ],
          "name": "stdout"
        }
      ]
    },
    {
      "cell_type": "markdown",
      "metadata": {
        "id": "91gu7qVhR6eX"
      },
      "source": [
        "## Preparing the image data"
      ]
    },
    {
      "cell_type": "code",
      "metadata": {
        "id": "UB7_xf0hzsPx"
      },
      "source": [
        "train_images = train_images_original.reshape((60000, 28 * 28))\n",
        "train_images = train_images.astype('float32') / 255\n",
        "\n",
        "test_images = test_images_original.reshape((10000, 28 * 28))\n",
        "test_images = test_images.astype('float32') / 255\n",
        "\n"
      ],
      "execution_count": null,
      "outputs": []
    },
    {
      "cell_type": "markdown",
      "metadata": {
        "id": "HwRvZSOvSzXx"
      },
      "source": [
        "## Preparing the labels\n",
        "\n",
        "We need to categorically encode the labels."
      ]
    },
    {
      "cell_type": "code",
      "metadata": {
        "id": "0ge03ZLd59PE"
      },
      "source": [
        "train_labels = train_labels_original\n",
        "test_labels = test_labels_original"
      ],
      "execution_count": null,
      "outputs": []
    },
    {
      "cell_type": "markdown",
      "metadata": {
        "id": "rC8AL-W7Vunu"
      },
      "source": [
        "## Deplaying some of the original and prepared image data and labels"
      ]
    },
    {
      "cell_type": "code",
      "metadata": {
        "id": "1mqqyfjeWBvO"
      },
      "source": [],
      "execution_count": null,
      "outputs": []
    },
    {
      "cell_type": "code",
      "metadata": {
        "colab": {
          "base_uri": "https://localhost:8080/"
        },
        "id": "0gYNAbR4WM5d",
        "outputId": "01c0656d-43f2-4725-b823-016f26a43892"
      },
      "source": [
        "train_images_original.shape"
      ],
      "execution_count": null,
      "outputs": [
        {
          "output_type": "execute_result",
          "data": {
            "text/plain": [
              "(60000, 28, 28)"
            ]
          },
          "metadata": {
            "tags": []
          },
          "execution_count": 4
        }
      ]
    },
    {
      "cell_type": "code",
      "metadata": {
        "colab": {
          "base_uri": "https://localhost:8080/",
          "height": 265
        },
        "id": "-uFEJL_WWRXI",
        "outputId": "b15bfe0c-8975-47be-d9fa-71b9b8394992"
      },
      "source": [
        "import matplotlib.pyplot as plt\n",
        "plt.imshow(train_images_original[0])\n",
        "plt.show()"
      ],
      "execution_count": null,
      "outputs": [
        {
          "output_type": "display_data",
          "data": {
            "image/png": "[encoded data removed]",
            "text/plain": [
              "<Figure size 432x288 with 1 Axes>"
            ]
          },
          "metadata": {
            "tags": [],
            "needs_background": "light"
          }
        }
      ]
    },
    {
      "cell_type": "code",
      "metadata": {
        "colab": {
          "base_uri": "https://localhost:8080/"
        },
        "id": "lwUQhGR8O3Fu",
        "outputId": "5c9ac226-1b7e-4b70-db0c-47eac68e54fc"
      },
      "source": [
        "train_labels.shape"
      ],
      "execution_count": null,
      "outputs": [
        {
          "output_type": "execute_result",
          "data": {
            "text/plain": [
              "(60000,)"
            ]
          },
          "metadata": {
            "tags": []
          },
          "execution_count": 6
        }
      ]
    },
    {
      "cell_type": "code",
      "metadata": {
        "colab": {
          "base_uri": "https://localhost:8080/"
        },
        "id": "45k_Qxb6TVx2",
        "outputId": "8051ee18-be57-4d03-d440-38b65a593ca8"
      },
      "source": [
        "train_labels[0]"
      ],
      "execution_count": null,
      "outputs": [
        {
          "output_type": "execute_result",
          "data": {
            "text/plain": [
              "5"
            ]
          },
          "metadata": {
            "tags": []
          },
          "execution_count": 7
        }
      ]
    },
    {
      "cell_type": "code",
      "metadata": {
        "id": "3UuJmDovTZlO"
      },
      "source": [
        "import numpy as np"
      ],
      "execution_count": null,
      "outputs": []
    },
    {
      "cell_type": "code",
      "metadata": {
        "colab": {
          "base_uri": "https://localhost:8080/"
        },
        "id": "2fvjL7woTmTN",
        "outputId": "2b14fb4d-ddcf-4cf2-9e1e-9daa438e2bb5"
      },
      "source": [
        "np.argmax(train_labels[0])"
      ],
      "execution_count": null,
      "outputs": [
        {
          "output_type": "execute_result",
          "data": {
            "text/plain": [
              "0"
            ]
          },
          "metadata": {
            "tags": []
          },
          "execution_count": 9
        }
      ]
    },
    {
      "cell_type": "code",
      "metadata": {
        "colab": {
          "base_uri": "https://localhost:8080/"
        },
        "id": "Ta3BJNQQVasW",
        "outputId": "a4569f5c-bcbe-492f-e5f7-d0158a9c6fe5"
      },
      "source": [
        "train_labels_original[0]"
      ],
      "execution_count": null,
      "outputs": [
        {
          "output_type": "execute_result",
          "data": {
            "text/plain": [
              "5"
            ]
          },
          "metadata": {
            "tags": []
          },
          "execution_count": 10
        }
      ]
    },
    {
      "cell_type": "code",
      "metadata": {
        "colab": {
          "base_uri": "https://localhost:8080/"
        },
        "id": "yuHs49yi89oH",
        "outputId": "acdca7b9-8d4a-4177-d41b-521860a45506"
      },
      "source": [
        "train =train_images\n",
        "trlab =train_labels\n",
        "test=test_images\n",
        "tslab =test_labels\n",
        "train.shape"
      ],
      "execution_count": null,
      "outputs": [
        {
          "output_type": "execute_result",
          "data": {
            "text/plain": [
              "(60000, 784)"
            ]
          },
          "metadata": {
            "tags": []
          },
          "execution_count": 11
        }
      ]
    },
    {
      "cell_type": "code",
      "metadata": {
        "colab": {
          "base_uri": "https://localhost:8080/"
        },
        "id": "ZIGWA9ND1-Sz",
        "outputId": "0a94144a-ce6a-4a99-bc72-966d6dacd214"
      },
      "source": [
        "# for example , 3 and 6 are chosen\n",
        "dx1=3\n",
        "dx2=6\n",
        "def filter(x, y):\n",
        "      for i in range (len(x)):\n",
        "        keep = (y == dx1) | (y ==dx2)\n",
        "        y =  y[keep]\n",
        "        x =  x[np.where(keep)[i]]\n",
        "        #y = y == dx1\n",
        "        return x,y.astype(int)\n",
        "train, trlab = filter(train,trlab)\n",
        "test, tslab = filter(test,tslab)\n",
        "\n",
        "#Number of examples\n",
        "m = train.shape[0]\n",
        "#Features\n",
        "n = train.shape[1]\n",
        "#Number of classes\n",
        "k=2\n",
        "lab = [dx1,dx2]\n",
        "intercept = np.ones((train.shape[0], 1))\n",
        "X = np.hstack((intercept, train))\n",
        "intercept = np.ones((test.shape[0], 1))\n",
        "test = np.hstack((intercept, test))\n",
        "print(X.shape)\n",
        "trlab[:10]\n",
        "#train[:1]\n"
      ],
      "execution_count": null,
      "outputs": [
        {
          "output_type": "stream",
          "text": [
            "(12049, 785)\n"
          ],
          "name": "stdout"
        },
        {
          "output_type": "execute_result",
          "data": {
            "text/plain": [
              "array([3, 3, 3, 6, 6, 3, 3, 6, 6, 6])"
            ]
          },
          "metadata": {
            "tags": []
          },
          "execution_count": 12
        }
      ]
    },
    {
      "cell_type": "code",
      "metadata": {
        "id": "r8YB7Bgt2yzT"
      },
      "source": [
        "def error_rate(confusion_matrix):\n",
        "    a = confusion_matrix\n",
        "    b = a.sum(axis=1)\n",
        "    df = []\n",
        "    for i in range(0,2):\n",
        "        temp = 1-a[i][i]/b[i]\n",
        "        df.append(temp)\n",
        "\n",
        "    df = pd.DataFrame(df)\n",
        "    df.columns = ['% Error rate']\n",
        "    return df*100"
      ],
      "execution_count": null,
      "outputs": []
    },
    {
      "cell_type": "code",
      "metadata": {
        "id": "bQtCgbou219d",
        "colab": {
          "base_uri": "https://localhost:8080/",
          "height": 154
        },
        "outputId": "ab7b7ac0-9f44-4734-fd7b-bf3cfb1a00d3"
      },
      "source": [
        "def sigmoid(z):\n",
        "  #print (z)\n",
        "  for i in range(len(z)):\n",
        "      if (z[i]>=0): #Optimize the sigmoid function to avoid extreme data overflow\n",
        "          h=(1.0 / (1 + np.exp(-z)))\n",
        "          #print(h)\n",
        "          return 1.0 / (1 + np.exp(-z))\n",
        "      else:\n",
        "          #print(np.exp(z)/(1+np.exp(z)))\n",
        "          return np.exp(z)/(1+np.exp(z))\n",
        "\n",
        "  #return 1.0 / (1 + np.exp(-z))\n",
        "\n",
        "#Regularized cost function\n",
        "def regCostFunction(theta, X, y, L = 0.1, batch_size= 1000000): # L is the lambda\n",
        "    #print(y) # y axtual 0:7,1:3   ok\n",
        "\n",
        "    theta = theta.reshape(-1, 1)\n",
        "    m, n = X.shape\n",
        "    theta = theta.reshape((n, 1))\n",
        "    error_list = []\n",
        "    #max_iters = 100\n",
        "    #for itr in range(max_iters):\n",
        "    mini_batches = create_mini_batches(X, y, batch_size)\n",
        "    #print(y) #ok\n",
        "    #for mini_batch in mini_batches:\n",
        "    #X_mini, y_mini = mini_batch\n",
        "    #print( X_mini.shape) #307 proob\n",
        "    #print(h)\n",
        "    #print(y_mini) # 1,0 actual label  #303\n",
        "\n",
        "    y = y.reshape((m, 1))\n",
        "    h = sigmoid(X.dot(theta))  #hypothesis\n",
        "    #print(h) #ok\n",
        "    tmp = np.copy(theta)\n",
        "    reg = (L/(2*m)) * np.sum(tmp**2)\n",
        "    #print((1 / m) * (-y.T.dot(np.log(h)) - (1 - y).T.dot(np.log(1 - h))) + reg)  #print cost\n",
        "    return (1 / m) * (-y.T.dot(np.log(h)) - (1 - y).T.dot(np.log(1 - h))) + reg\n",
        "\n",
        "#Regularized gradient function\n",
        "def regGradient(theta, X, y, L = 0.1, batch_size= 1000000):\n",
        "    #print(y[:3]) # actual 0 ,1\n",
        "    m, n = X.shape\n",
        "    theta=(np.ones((n ,1)) * -1)\n",
        "    #print(theta.shape)\n",
        "    theta = theta.reshape(-1, 1)\n",
        "    theta = theta.reshape((n, 1))\n",
        "    #y = trlab.reshape((m, 1))\n",
        "    y=y.reshape(m,1)  # actual 0 ,1\n",
        "    h = sigmoid(X.dot(theta))   # 1.4*10^-9,...\n",
        "    #print(h) #ok\n",
        "    tmp = np.copy(theta)\n",
        "    tmp[0] = 0\n",
        "    reg = L*tmp/m\n",
        "    alpha=0.1\n",
        "    #print(((alpha / m) * X.T.dot(h - y)) + reg  )  #print theta\n",
        "    return ((alpha / m) * X.T.dot(h - y)) + reg\n",
        "\n",
        "#Optimal theta\n",
        "def logisticRegression(X, y, theta, batch_size):\n",
        "\n",
        "    #print(y) # y actual label, 1: 3, 0: 7\n",
        "    result = op.minimize(regCostFunction, theta, (X, y), method = 'TNC', jac = regGradient, options={'maxiter': 10000})\n",
        "    # options={'gtol': 1e-3, 'disp': True, 'maxiter': 1000}\n",
        "    return result.x\n",
        "\n",
        "# function to create a list containing mini-batches\n",
        "def create_mini_batches(X, y, batch_size):\n",
        "    #print(y) #actual 0,1\n",
        "    mini_batches = []\n",
        "    #3 vs 7\n",
        "    temp=[dx1]  # first digit\n",
        "    #set the labels in -1 and 1\n",
        "    tmp_y = np.array(trlab == temp, dtype = int)\n",
        "    #print(tmp_y)   #y actual 0,1\n",
        "    #print(X.shape)\n",
        "    #print(y.shape)\n",
        "    y1=tmp_y.reshape(tmp_y.shape[0], 1)\n",
        "    data = np.hstack((X, y1))\n",
        "    #print(X.shape) #307\n",
        "    #np.random.shuffle(data)\n",
        "    n_minibatches = data.shape[0] // batch_size\n",
        "    i = 0\n",
        "    for i in range(n_minibatches + 1):\n",
        "        mini_batch = data[i * batch_size:(i + 1)*batch_size, :]\n",
        "        X_mini = mini_batch[:, :-1]\n",
        "        #print(X_mini.shape)\n",
        "        Y_mini = mini_batch[:, -1]\n",
        "        #print(Y_mini)\n",
        "        mini_batches.append((X_mini, Y_mini))\n",
        "    if data.shape[0] % batch_size != 0:\n",
        "        mini_batch = data[i * batch_size:data.shape[0]]\n",
        "        X_mini = mini_batch[:, :-1]\n",
        "        Y_mini = mini_batch[:, -1].reshape((-1, 1))\n",
        "        mini_batches.append((X_mini, Y_mini))\n",
        "    #print(Y_mini) # 0,1 actual\n",
        "    return mini_batches\n",
        "\n",
        "#Training\n",
        "\n",
        "all_theta = np.zeros((k, n + 1))\n",
        "temp=[dx1]\n",
        "#set the labels in -1 and 1\n",
        "tmp_y = np.array(trlab == temp, dtype = int)\n",
        "#print(tmp_y)   #y actual 0,1\n",
        "optTheta = logisticRegression(X, tmp_y, (np.ones((n + 1,1)) * -1),batch_size = 1000000)\n",
        "all_theta = optTheta\n",
        "#print(all_theta)  #all theta\n",
        "\n",
        "###############################################################\n",
        "# example of grid searching key hyperparametres for ridge classifier\n",
        "# to find best L reguarization\n",
        "from sklearn.datasets import make_blobs\n",
        "from sklearn.model_selection import RepeatedStratifiedKFold\n",
        "from sklearn.model_selection import GridSearchCV\n",
        "from sklearn.linear_model import LogisticRegression\n",
        "# define dataset\n",
        "(12049, 785)\n",
        "'''\n",
        "X, y = make_blobs(n_samples=1000, centers=2, n_features=785, cluster_std=20)\n",
        "# define models and parameters\n",
        "model = LogisticRegression()\n",
        "solvers = ['newton-cg', 'lbfgs', 'liblinear']\n",
        "penalty = ['l2']\n",
        "L = [100, 10, 1.0, 0.1, 0.01]\n",
        "# define grid search\n",
        "grid = dict(solver=solvers,penalty=penalty,C=L)\n",
        "cv = RepeatedStratifiedKFold(n_splits=10, n_repeats=3, random_state=1)\n",
        "grid_search = GridSearchCV(estimator=model, param_grid=grid, n_jobs=-1, cv=cv, scoring='accuracy',error_score=0)\n",
        "grid_result = grid_search.fit(X, y)\n",
        "# summarize results\n",
        "print(\"Best: %f using %s\" % (grid_result.best_score_, grid_result.best_params_))\n",
        "means = grid_result.cv_results_['mean_test_score']\n",
        "stds = grid_result.cv_results_['std_test_score']\n",
        "params = grid_result.cv_results_['params']\n",
        "for mean, stdev, param in zip(means, stds, params):\n",
        "    print(\"%f (%f) with: %r\" % (mean, stdev, param))\n",
        "\n",
        "### to find best alpha\n",
        "from sklearn.datasets import make_blobs\n",
        "from sklearn.model_selection import RepeatedStratifiedKFold\n",
        "from sklearn.model_selection import GridSearchCV\n",
        "from sklearn.linear_model import RidgeClassifier\n",
        "# define dataset\n",
        "X, y = make_blobs(n_samples=1000, centers=2, n_features=785, cluster_std=20)\n",
        "# define models and parameters\n",
        "model = RidgeClassifier()\n",
        "alpha = [0.1, 0.2, 0.3, 0.4, 0.5, 0.6, 0.7, 0.8, 0.9, 1.0]\n",
        "# define grid search\n",
        "grid = dict(alpha=alpha)\n",
        "cv = RepeatedStratifiedKFold(n_splits=10, n_repeats=3, random_state=1)\n",
        "grid_search = GridSearchCV(estimator=model, param_grid=grid, n_jobs=-1, cv=cv, scoring='accuracy',error_score=0)\n",
        "grid_result = grid_search.fit(X, y)\n",
        "# summarize results\n",
        "print(\"Best: %f using %s\" % (grid_result.best_score_, grid_result.best_params_))\n",
        "means = grid_result.cv_results_['mean_test_score']\n",
        "stds = grid_result.cv_results_['std_test_score']\n",
        "params = grid_result.cv_results_['params']\n",
        "for mean, stdev, param in zip(means, stds, params):\n",
        "    print(\"%f (%f) with: %r\" % (mean, stdev, param))\n",
        "    '''"
      ],
      "execution_count": null,
      "outputs": [
        {
          "output_type": "execute_result",
          "data": {
            "application/vnd.google.colaboratory.intrinsic+json": {
              "type": "string"
            },
            "text/plain": [
              "'\\nX, y = make_blobs(n_samples=1000, centers=2, n_features=785, cluster_std=20)\\n# define models and parameters\\nmodel = LogisticRegression()\\nsolvers = [\\'newton-cg\\', \\'lbfgs\\', \\'liblinear\\']\\npenalty = [\\'l2\\']\\nL = [100, 10, 1.0, 0.1, 0.01]\\n# define grid search\\ngrid = dict(solver=solvers,penalty=penalty,C=L)\\ncv = RepeatedStratifiedKFold(n_splits=10, n_repeats=3, random_state=1)\\ngrid_search = GridSearchCV(estimator=model, param_grid=grid, n_jobs=-1, cv=cv, scoring=\\'accuracy\\',error_score=0)\\ngrid_result = grid_search.fit(X, y)\\n# summarize results\\nprint(\"Best: %f using %s\" % (grid_result.best_score_, grid_result.best_params_))\\nmeans = grid_result.cv_results_[\\'mean_test_score\\']\\nstds = grid_result.cv_results_[\\'std_test_score\\']\\nparams = grid_result.cv_results_[\\'params\\']\\nfor mean, stdev, param in zip(means, stds, params):\\n    print(\"%f (%f) with: %r\" % (mean, stdev, param))\\n\\n### to find best alpha\\nfrom sklearn.datasets import make_blobs\\nfrom sklearn.model_selection import RepeatedStratifiedKFold\\nfrom sklearn.model_selection import GridSearchCV\\nfrom sklearn.linear_model import RidgeClassifier\\n# define dataset\\nX, y = make_blobs(n_samples=1000, centers=2, n_features=785, cluster_std=20)\\n# define models and parameters\\nmodel = RidgeClassifier()\\nalpha = [0.1, 0.2, 0.3, 0.4, 0.5, 0.6, 0.7, 0.8, 0.9, 1.0]\\n# define grid search\\ngrid = dict(alpha=alpha)\\ncv = RepeatedStratifiedKFold(n_splits=10, n_repeats=3, random_state=1)\\ngrid_search = GridSearchCV(estimator=model, param_grid=grid, n_jobs=-1, cv=cv, scoring=\\'accuracy\\',error_score=0)\\ngrid_result = grid_search.fit(X, y)\\n# summarize results\\nprint(\"Best: %f using %s\" % (grid_result.best_score_, grid_result.best_params_))\\nmeans = grid_result.cv_results_[\\'mean_test_score\\']\\nstds = grid_result.cv_results_[\\'std_test_score\\']\\nparams = grid_result.cv_results_[\\'params\\']\\nfor mean, stdev, param in zip(means, stds, params):\\n    print(\"%f (%f) with: %r\" % (mean, stdev, param))\\n    '"
            ]
          },
          "metadata": {
            "tags": []
          },
          "execution_count": 14
        }
      ]
    },
    {
      "cell_type": "code",
      "metadata": {
        "colab": {
          "base_uri": "https://localhost:8080/",
          "height": 86
        },
        "id": "OpPVtJX35nfE",
        "outputId": "3b4744ed-7535-417b-d261-0c1cdbcbe70a"
      },
      "source": [
        "'''\n",
        "maxiter= 10000\n",
        "alpha=0.1\n",
        "L = [10, 1.0, 0.1, ]\n",
        "acc = [67,67.47,81.55,80.487,70.376,53.5,51.32]\n",
        "\n",
        "matplot.subplots(figsize=(10, 5))\n",
        "matplot.semilogx(L, acc,'-gD' , label=\"Accuracy\")\n",
        "#matplot.xticks(L,L)\n",
        "matplot.grid(True)\n",
        "matplot.xlabel(\"Lambda\")\n",
        "matplot.ylabel(\"Test Accuracy\")\n",
        "matplot.legend()\n",
        "matplot.title('Test accuracy versus the regularization value(log-scale)')\n",
        "matplot.show()\n",
        "'''"
      ],
      "execution_count": null,
      "outputs": [
        {
          "output_type": "execute_result",
          "data": {
            "application/vnd.google.colaboratory.intrinsic+json": {
              "type": "string"
            },
            "text/plain": [
              "'\\nmaxiter= 10000\\nalpha=0.1\\nL = [10, 1.0, 0.1, ]\\nacc = [67,67.47,81.55,80.487,70.376,53.5,51.32]\\n\\nmatplot.subplots(figsize=(10, 5))\\nmatplot.semilogx(L, acc,\\'-gD\\' , label=\"Accuracy\")\\n#matplot.xticks(L,L)\\nmatplot.grid(True)\\nmatplot.xlabel(\"Lambda\")\\nmatplot.ylabel(\"Test Accuracy\")\\nmatplot.legend()\\nmatplot.title(\\'Test accuracy versus the regularization value(log-scale)\\')\\nmatplot.show()\\n'"
            ]
          },
          "metadata": {
            "tags": []
          },
          "execution_count": 15
        }
      ]
    },
    {
      "cell_type": "code",
      "metadata": {
        "colab": {
          "base_uri": "https://localhost:8080/",
          "height": 230
        },
        "id": "zN49b4cj5x4a",
        "outputId": "02056781-d4a8-453a-af7d-0b9967f5383e"
      },
      "source": [
        "matplot.subplots(1,1, figsize=(3,3))\n",
        "for i in range(1):\n",
        "    l1 = matplot.subplot(1, 1, i + 1)\n",
        "    l1.imshow(all_theta[1:785].reshape(28, 28),cmap=matplot.cm.RdBu)\n",
        "\n",
        "    l1.set_xticks(())\n",
        "    l1.set_yticks(())\n",
        "    l1.set_xlabel('Class %i' % 1)\n",
        "matplot.suptitle('Image of the 784 weights for each 2 trained classifiers')\n",
        "matplot.show()"
      ],
      "execution_count": null,
      "outputs": [
        {
          "output_type": "display_data",
          "data": {
            "image/png": "[encoded data removed]",
            "text/plain": [
              "<Figure size 216x216 with 1 Axes>"
            ]
          },
          "metadata": {
            "tags": []
          }
        }
      ]
    },
    {
      "cell_type": "code",
      "metadata": {
        "colab": {
          "base_uri": "https://localhost:8080/",
          "height": 582
        },
        "id": "WtMZ27FW5qre",
        "outputId": "6e19ecb0-810b-4e91-f8e9-4d26c7a3b667"
      },
      "source": [
        "#prediction\n",
        "#compute accuracy  #####test\n",
        "P = sigmoid(test.dot(all_theta)) #probability for each temp\n",
        "#print(all_theta.shape) # all weights\n",
        "#print(P.shape) #hypothesis\n",
        "probabilities = []\n",
        "accuratepredicts = 0\n",
        "\n",
        "for i in range (len(P)):\n",
        "  if (P[i]>=0.5):\n",
        "    hypothesis=dx1\n",
        "  else:\n",
        "    hypothesis=dx2\n",
        "  probabilities.append(hypothesis)\n",
        "  #print(probabilities)\n",
        "\n",
        "  if (tslab.T[i] == probabilities[i]):\n",
        "    accuratepredicts+=1\n",
        "#print(accuratepredicts)\n",
        "\n",
        "acc=(accuratepredicts/len(P))*100  #accuracy\n",
        "print(\"Test Accuracy:\", acc , '%')\n",
        "\n",
        "# X-axis Predicted vs Y-axis Actual Values\n",
        "matplot.subplots(figsize=(10, 6))\n",
        "sb.heatmap(confusion_matrix(tslab, probabilities), annot = True, fmt = 'g')\n",
        "matplot.xlabel(\"Predicted\")\n",
        "matplot.ylabel(\"Actual\")\n",
        "matplot.title(\"Confusion Matrix\")\n",
        "matplot.show()\n",
        "\n",
        "from sklearn.metrics import precision_score\n",
        "from sklearn import metrics\n",
        "import pandas as pd\n",
        "import numpy as np\n",
        "from matplotlib import pyplot as plt\n",
        "import seaborn as sns\n",
        "\n",
        "precision = precision_score(tslab, probabilities, average='weighted')\n",
        "recall_sensitivity = metrics.recall_score(tslab, probabilities,average='weighted')\n",
        "f1_positive = metrics.f1_score(tslab, probabilities,average='weighted')\n",
        "specificity = metrics.recall_score(tslab, probabilities, pos_label=dx1)\n",
        "print('Precision: %.3f' % precision)\n",
        "print('Recall (sensitivity): %.3f' % recall_sensitivity)\n",
        "print('Specificity: %.3f' % specificity)\n",
        "print('F1_score: %.3f' % f1_positive)\n",
        "error_rate(confusion_matrix(tslab, probabilities))\n"
      ],
      "execution_count": null,
      "outputs": [
        {
          "output_type": "stream",
          "text": [
            "Test Accuracy: 87.8048780487805 %\n"
          ],
          "name": "stdout"
        },
        {
          "output_type": "display_data",
          "data": {
            "image/png": "[encoded data removed]",
            "text/plain": [
              "<Figure size 720x432 with 2 Axes>"
            ]
          },
          "metadata": {
            "tags": [],
            "needs_background": "light"
          }
        },
        {
          "output_type": "stream",
          "text": [
            "Precision: 0.885\n",
            "Recall (sensitivity): 0.878\n",
            "Specificity: 0.817\n",
            "F1_score: 0.878\n"
          ],
          "name": "stdout"
        },
        {
          "output_type": "execute_result",
          "data": {
            "text/html": [
              "<div>\n",
              "<style scoped>\n",
              "    .dataframe tbody tr th:only-of-type {\n",
              "        vertical-align: middle;\n",
              "    }\n",
              "\n",
              "    .dataframe tbody tr th {\n",
              "        vertical-align: top;\n",
              "    }\n",
              "\n",
              "    .dataframe thead th {\n",
              "        text-align: right;\n",
              "    }\n",
              "</style>\n",
              "<table border=\"1\" class=\"dataframe\">\n",
              "  <thead>\n",
              "    <tr style=\"text-align: right;\">\n",
              "      <th></th>\n",
              "      <th>% Error rate</th>\n",
              "    </tr>\n",
              "  </thead>\n",
              "  <tbody>\n",
              "    <tr>\n",
              "      <th>0</th>\n",
              "      <td>18.316832</td>\n",
              "    </tr>\n",
              "    <tr>\n",
              "      <th>1</th>\n",
              "      <td>5.741127</td>\n",
              "    </tr>\n",
              "  </tbody>\n",
              "</table>\n",
              "</div>"
            ],
            "text/plain": [
              "   % Error rate\n",
              "0     18.316832\n",
              "1      5.741127"
            ]
          },
          "metadata": {
            "tags": []
          },
          "execution_count": 17
        }
      ]
    },
    {
      "cell_type": "code",
      "metadata": {
        "id": "IqOoPFIO53wX",
        "colab": {
          "base_uri": "https://localhost:8080/",
          "height": 582
        },
        "outputId": "64c9755b-baf3-42c5-9d3a-0cd6758d2254"
      },
      "source": [
        "#prediction\n",
        "#compute accuracy\n",
        "P = sigmoid(X.dot(all_theta)) #probability for each temp\n",
        "#print(all_theta.shape) # all weights\n",
        "#print(P.shape) #hypothesis\n",
        "probabilities = []\n",
        "accuratepredicts = 0\n",
        "\n",
        "for i in range (len(P)):\n",
        "  if (P[i]>=0.5):\n",
        "    hypothesis=dx1\n",
        "  else:\n",
        "    hypothesis=dx2\n",
        "  probabilities.append(hypothesis)\n",
        "  #print(probabilities)\n",
        "\n",
        "  if (trlab.T[i] == probabilities[i]):\n",
        "    accuratepredicts+=1\n",
        "#print(accuratepredicts)\n",
        "\n",
        "acc=(accuratepredicts/len(P))*100  #accuracy\n",
        "print(\"Train Accuracy:\", acc , '%')\n",
        "\n",
        "# X-axis Predicted vs Y-axis Actual Values\n",
        "matplot.subplots(figsize=(10, 6))\n",
        "sb.heatmap(confusion_matrix(trlab, probabilities), annot = True, fmt = 'g')\n",
        "matplot.xlabel(\"Predicted\")\n",
        "matplot.ylabel(\"Actual\")\n",
        "matplot.title(\"Confusion Matrix\")\n",
        "matplot.show()\n",
        "\n",
        "\n",
        "from sklearn.metrics import precision_score\n",
        "from sklearn import metrics\n",
        "import pandas as pd\n",
        "import numpy as np\n",
        "from matplotlib import pyplot as plt\n",
        "import seaborn as sns\n",
        "\n",
        "precision = precision_score(trlab, probabilities, average='weighted')\n",
        "recall_sensitivity = metrics.recall_score(trlab, probabilities,average='weighted')\n",
        "f1_positive = metrics.f1_score(trlab, probabilities,average='weighted')\n",
        "specificity = metrics.recall_score(trlab, probabilities, pos_label=dx1)\n",
        "print('Precision: %.3f' % precision)\n",
        "print('Recall (sensitivity): %.3f' % recall_sensitivity)\n",
        "print('Specificity: %.3f' % specificity)\n",
        "print('F1_score: %.3f' % f1_positive)\n",
        "\n",
        "### error\n",
        "error_rate(confusion_matrix(trlab, probabilities))"
      ],
      "execution_count": null,
      "outputs": [
        {
          "output_type": "stream",
          "text": [
            "Train Accuracy: 84.97800647356627 %\n"
          ],
          "name": "stdout"
        },
        {
          "output_type": "display_data",
          "data": {
            "image/png": "[encoded data removed]",
            "text/plain": [
              "<Figure size 720x432 with 2 Axes>"
            ]
          },
          "metadata": {
            "tags": [],
            "needs_background": "light"
          }
        },
        {
          "output_type": "stream",
          "text": [
            "Precision: 0.859\n",
            "Recall (sensitivity): 0.850\n",
            "Specificity: 0.776\n",
            "F1_score: 0.849\n"
          ],
          "name": "stdout"
        },
        {
          "output_type": "execute_result",
          "data": {
            "text/html": [
              "<div>\n",
              "<style scoped>\n",
              "    .dataframe tbody tr th:only-of-type {\n",
              "        vertical-align: middle;\n",
              "    }\n",
              "\n",
              "    .dataframe tbody tr th {\n",
              "        vertical-align: top;\n",
              "    }\n",
              "\n",
              "    .dataframe thead th {\n",
              "        text-align: right;\n",
              "    }\n",
              "</style>\n",
              "<table border=\"1\" class=\"dataframe\">\n",
              "  <thead>\n",
              "    <tr style=\"text-align: right;\">\n",
              "      <th></th>\n",
              "      <th>% Error rate</th>\n",
              "    </tr>\n",
              "  </thead>\n",
              "  <tbody>\n",
              "    <tr>\n",
              "      <th>0</th>\n",
              "      <td>22.394389</td>\n",
              "    </tr>\n",
              "    <tr>\n",
              "      <th>1</th>\n",
              "      <td>7.384251</td>\n",
              "    </tr>\n",
              "  </tbody>\n",
              "</table>\n",
              "</div>"
            ],
            "text/plain": [
              "   % Error rate\n",
              "0     22.394389\n",
              "1      7.384251"
            ]
          },
          "metadata": {
            "tags": []
          },
          "execution_count": 18
        }
      ]
    },
    {
      "cell_type": "code",
      "metadata": {
        "id": "FB93nuY39UuK",
        "colab": {
          "base_uri": "https://localhost:8080/",
          "height": 136
        },
        "outputId": "9e0e0b68-1555-466e-8cb5-306eaf1f529b"
      },
      "source": [
        "'''\n",
        "train_score = []\n",
        "test_score = []\n",
        "k_vals = []\n",
        "from sklearn.neighbors import KNeighborsClassifier\n",
        "from sklearn.neighbors import KNeighborsRegressor\n",
        "for k in range(1, len(trlab)):\n",
        "    k_vals.append(k)\n",
        "    knn = KNeighborsClassifier(n_neighbors = k)\n",
        "    knn.fit(X, trlab)\n",
        "\n",
        "    tr_score = knn.score(X, trlab)\n",
        "    train_score.append(tr_score)\n",
        "\n",
        "    te_score = knn.score(test, tslab)\n",
        "    test_score.append(te_score)\n",
        "\n",
        "plt.figure(figsize=(10,5))\n",
        "plt.xlabel('Different Values of K')\n",
        "plt.ylabel('Model score')\n",
        "plt.plot(k_vals, train_score, color = 'r', label = \"training score\")\n",
        "plt.plot(k_vals, test_score, color = 'b', label = 'test score')\n",
        "plt.legend(bbox_to_anchor=(1, 1),\n",
        "           bbox_transform=plt.gcf().transFigure)\n",
        "plt.show()\n",
        "\n",
        "knn = KNeighborsClassifier(n_neighbors = 14)\n",
        "#Fit the model\n",
        "knn.fit(X,trlab)\n",
        "#get the score\n",
        "knn.score(test,tslab)\n",
        "'''"
      ],
      "execution_count": null,
      "outputs": [
        {
          "output_type": "execute_result",
          "data": {
            "application/vnd.google.colaboratory.intrinsic+json": {
              "type": "string"
            },
            "text/plain": [
              "'\\ntrain_score = []\\ntest_score = []\\nk_vals = []\\nfrom sklearn.neighbors import KNeighborsClassifier\\nfrom sklearn.neighbors import KNeighborsRegressor\\nfor k in range(1, len(trlab)):\\n    k_vals.append(k)\\n    knn = KNeighborsClassifier(n_neighbors = k)\\n    knn.fit(X, trlab)\\n    \\n    tr_score = knn.score(X, trlab)\\n    train_score.append(tr_score)\\n    \\n    te_score = knn.score(test, tslab)\\n    test_score.append(te_score)\\n\\nplt.figure(figsize=(10,5))\\nplt.xlabel(\\'Different Values of K\\')\\nplt.ylabel(\\'Model score\\')\\nplt.plot(k_vals, train_score, color = \\'r\\', label = \"training score\")\\nplt.plot(k_vals, test_score, color = \\'b\\', label = \\'test score\\')\\nplt.legend(bbox_to_anchor=(1, 1),\\n           bbox_transform=plt.gcf().transFigure)\\nplt.show()\\n\\nknn = KNeighborsClassifier(n_neighbors = 14)\\n#Fit the model\\nknn.fit(X,trlab)\\n#get the score\\nknn.score(test,tslab)\\n'"
            ]
          },
          "metadata": {
            "tags": []
          },
          "execution_count": 19
        }
      ]
    }
  ]
}